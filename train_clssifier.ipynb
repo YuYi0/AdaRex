{
 "cells": [
  {
   "cell_type": "code",
   "execution_count": 1,
   "id": "190f2a96",
   "metadata": {},
   "outputs": [],
   "source": [
    "import sys\n",
    "# add the path\n",
    "sys.path.append(\"../../\")\n",
    "from base_utils import *\n",
    "from sentence_transformers import SentenceTransformer\n",
    "from datasets import load_dataset\n",
    "from functools import partial\n",
    "from transformers import AutoTokenizer, AutoModel, BartForConditionalGeneration, BertForSequenceClassification\n",
    "import argparse\n",
    "from nltk.tokenize import sent_tokenize\n",
    "import os\n",
    "os.environ[\"TOKENIZERS_PARALLELISM\"] = \"false\""
   ]
  },
  {
   "cell_type": "code",
   "execution_count": 2,
   "id": "e104330d",
   "metadata": {},
   "outputs": [
    {
     "name": "stderr",
     "output_type": "stream",
     "text": [
      "Using custom data configuration default-56aad127a647ced7\n"
     ]
    },
    {
     "name": "stdout",
     "output_type": "stream",
     "text": [
      "Downloading and preparing dataset csv/default to /home/yu/.cache/huggingface/datasets/csv/default-56aad127a647ced7/0.0.0/6b34fb8fcf56f7c8ba51dc895bfa2bfbe43546f190a60fcf74bb5e8afdcc2317...\n"
     ]
    },
    {
     "data": {
      "application/vnd.jupyter.widget-view+json": {
       "model_id": "511220c2b70e4791ba870af2ed3f0d02",
       "version_major": 2,
       "version_minor": 0
      },
      "text/plain": [
       "Downloading data files:   0%|          | 0/3 [00:00<?, ?it/s]"
      ]
     },
     "metadata": {},
     "output_type": "display_data"
    },
    {
     "data": {
      "application/vnd.jupyter.widget-view+json": {
       "model_id": "49cf4a9bd6ff4405925e888f3c65c2b6",
       "version_major": 2,
       "version_minor": 0
      },
      "text/plain": [
       "Extracting data files:   0%|          | 0/3 [00:00<?, ?it/s]"
      ]
     },
     "metadata": {},
     "output_type": "display_data"
    },
    {
     "data": {
      "application/vnd.jupyter.widget-view+json": {
       "model_id": "",
       "version_major": 2,
       "version_minor": 0
      },
      "text/plain": [
       "0 tables [00:00, ? tables/s]"
      ]
     },
     "metadata": {},
     "output_type": "display_data"
    },
    {
     "name": "stderr",
     "output_type": "stream",
     "text": [
      "/home/yu/anaconda3/envs/venv/lib/python3.9/site-packages/datasets/download/streaming_download_manager.py:714: FutureWarning: the 'mangle_dupe_cols' keyword is deprecated and will be removed in a future version. Please take steps to stop the use of 'mangle_dupe_cols'\n",
      "  return pd.read_csv(xopen(filepath_or_buffer, \"rb\", use_auth_token=use_auth_token), **kwargs)\n"
     ]
    },
    {
     "data": {
      "application/vnd.jupyter.widget-view+json": {
       "model_id": "",
       "version_major": 2,
       "version_minor": 0
      },
      "text/plain": [
       "0 tables [00:00, ? tables/s]"
      ]
     },
     "metadata": {},
     "output_type": "display_data"
    },
    {
     "name": "stderr",
     "output_type": "stream",
     "text": [
      "/home/yu/anaconda3/envs/venv/lib/python3.9/site-packages/datasets/download/streaming_download_manager.py:714: FutureWarning: the 'mangle_dupe_cols' keyword is deprecated and will be removed in a future version. Please take steps to stop the use of 'mangle_dupe_cols'\n",
      "  return pd.read_csv(xopen(filepath_or_buffer, \"rb\", use_auth_token=use_auth_token), **kwargs)\n"
     ]
    },
    {
     "data": {
      "application/vnd.jupyter.widget-view+json": {
       "model_id": "",
       "version_major": 2,
       "version_minor": 0
      },
      "text/plain": [
       "0 tables [00:00, ? tables/s]"
      ]
     },
     "metadata": {},
     "output_type": "display_data"
    },
    {
     "name": "stdout",
     "output_type": "stream",
     "text": [
      "Dataset csv downloaded and prepared to /home/yu/.cache/huggingface/datasets/csv/default-56aad127a647ced7/0.0.0/6b34fb8fcf56f7c8ba51dc895bfa2bfbe43546f190a60fcf74bb5e8afdcc2317. Subsequent calls will reuse this data.\n"
     ]
    },
    {
     "name": "stderr",
     "output_type": "stream",
     "text": [
      "/home/yu/anaconda3/envs/venv/lib/python3.9/site-packages/datasets/download/streaming_download_manager.py:714: FutureWarning: the 'mangle_dupe_cols' keyword is deprecated and will be removed in a future version. Please take steps to stop the use of 'mangle_dupe_cols'\n",
      "  return pd.read_csv(xopen(filepath_or_buffer, \"rb\", use_auth_token=use_auth_token), **kwargs)\n"
     ]
    },
    {
     "data": {
      "application/vnd.jupyter.widget-view+json": {
       "model_id": "8a50c1b05a2144aa8e9469fb107f6543",
       "version_major": 2,
       "version_minor": 0
      },
      "text/plain": [
       "  0%|          | 0/3 [00:00<?, ?it/s]"
      ]
     },
     "metadata": {},
     "output_type": "display_data"
    },
    {
     "data": {
      "application/vnd.jupyter.widget-view+json": {
       "model_id": "58f2f5448f9f41bdacf319e93d3d79bc",
       "version_major": 2,
       "version_minor": 0
      },
      "text/plain": [
       "  0%|          | 0/1600 [00:00<?, ?ex/s]"
      ]
     },
     "metadata": {},
     "output_type": "display_data"
    },
    {
     "data": {
      "application/vnd.jupyter.widget-view+json": {
       "model_id": "b66e83688e55497cb81e8c7ed673f99e",
       "version_major": 2,
       "version_minor": 0
      },
      "text/plain": [
       "  0%|          | 0/200 [00:00<?, ?ex/s]"
      ]
     },
     "metadata": {},
     "output_type": "display_data"
    },
    {
     "data": {
      "application/vnd.jupyter.widget-view+json": {
       "model_id": "83c9ad3fcfa5442ab90aa21a822410d2",
       "version_major": 2,
       "version_minor": 0
      },
      "text/plain": [
       "  0%|          | 0/200 [00:00<?, ?ex/s]"
      ]
     },
     "metadata": {},
     "output_type": "display_data"
    }
   ],
   "source": [
    "class Processor():\n",
    "    def __init__(self, tokenizer):\n",
    "        self.tokenizer = tokenizer\n",
    "        \n",
    "    def __call__(self, sample):\n",
    "        for key in sample.keys():\n",
    "            if key == \"input\": \n",
    "                text = self.tokenizer(sample[key])[\"input_ids\"]\n",
    "            if key == \"target\":\n",
    "                if sample[key]: #True\n",
    "                    target = 1  \n",
    "                else:\n",
    "                    target = 0\n",
    "        return_dict = {\"input_ids\": torch.tensor(text), \n",
    "                        \"target\": torch.tensor([target])}\n",
    "        return return_dict\n",
    "    \n",
    "tokenizer = AutoTokenizer.from_pretrained(\"bert-base-uncased\")\n",
    "path = \"./train_classifier_data/\"\n",
    "train = os.path.join(path, \"new_train.csv\")\n",
    "valid = os.path.join(path, \"new_valid.csv\")\n",
    "test = os.path.join(path, \"new_test.csv\")\n",
    "data = load_dataset(\"csv\", data_files={\"train\": train,\n",
    "                                       \"valid\": valid,\n",
    "                                       \"test\": test})\n",
    "batch_size = 8\n",
    "processor = Processor(tokenizer)\n",
    "encoded_data = data.map(lambda sample: processor(sample))\n",
    "encoded_data.set_format(\"torch\")\n",
    "# batchify the encoded data\n",
    "train_dataloader = batchify(encoded_data[\"train\"][\"input_ids\"], encoded_data[\"train\"][\"target\"],\n",
    "                            batch_size=batch_size)\n",
    "valid_dataloader = batchify(encoded_data[\"valid\"][\"input_ids\"], encoded_data[\"valid\"][\"target\"],\n",
    "                            batch_size=batch_size)\n",
    "test_dataloader = batchify(encoded_data[\"test\"][\"input_ids\"], encoded_data[\"test\"][\"target\"],\n",
    "                           batch_size=batch_size)"
   ]
  },
  {
   "cell_type": "code",
   "execution_count": 3,
   "id": "04669dbd",
   "metadata": {},
   "outputs": [
    {
     "name": "stderr",
     "output_type": "stream",
     "text": [
      "Some weights of the model checkpoint at bert-base-uncased were not used when initializing BertForSequenceClassification: ['cls.predictions.transform.dense.bias', 'cls.predictions.bias', 'cls.predictions.decoder.weight', 'cls.seq_relationship.weight', 'cls.predictions.transform.LayerNorm.bias', 'cls.seq_relationship.bias', 'cls.predictions.transform.LayerNorm.weight', 'cls.predictions.transform.dense.weight']\n",
      "- This IS expected if you are initializing BertForSequenceClassification from the checkpoint of a model trained on another task or with another architecture (e.g. initializing a BertForSequenceClassification model from a BertForPreTraining model).\n",
      "- This IS NOT expected if you are initializing BertForSequenceClassification from the checkpoint of a model that you expect to be exactly identical (initializing a BertForSequenceClassification model from a BertForSequenceClassification model).\n",
      "Some weights of BertForSequenceClassification were not initialized from the model checkpoint at bert-base-uncased and are newly initialized: ['classifier.bias', 'classifier.weight']\n",
      "You should probably TRAIN this model on a down-stream task to be able to use it for predictions and inference.\n"
     ]
    },
    {
     "name": "stdout",
     "output_type": "stream",
     "text": [
      "Start training...\n",
      "The total number of parameters is: 109.48M\n",
      "current learning rate: 2e-06\n"
     ]
    },
    {
     "data": {
      "application/vnd.jupyter.widget-view+json": {
       "model_id": "",
       "version_major": 2,
       "version_minor": 0
      },
      "text/plain": [
       "  0%|          | 0/213 [00:00<?, ?it/s]"
      ]
     },
     "metadata": {},
     "output_type": "display_data"
    },
    {
     "data": {
      "application/vnd.jupyter.widget-view+json": {
       "model_id": "3b49c4792e0f439a83158dfe3c51b4ac",
       "version_major": 2,
       "version_minor": 0
      },
      "text/plain": [
       "  0%|          | 0/213 [00:00<?, ?it/s]"
      ]
     },
     "metadata": {},
     "output_type": "display_data"
    },
    {
     "data": {
      "application/vnd.jupyter.widget-view+json": {
       "model_id": "",
       "version_major": 2,
       "version_minor": 0
      },
      "text/plain": [
       "  0%|          | 0/37 [00:00<?, ?it/s]"
      ]
     },
     "metadata": {},
     "output_type": "display_data"
    },
    {
     "name": "stdout",
     "output_type": "stream",
     "text": [
      "------------------------- epoch: 0 -------------------------\n",
      "on train data\n",
      "loss: 0.5605970025062561\n",
      "precision: 0.805031418800354\n",
      "------------------------- epoch: 0 -------------------------\n",
      "on valid data\n",
      "loss: 0.5686326026916504\n",
      "precision: 0.7224904298782349\n",
      "current learning rate: 2e-06\n"
     ]
    },
    {
     "data": {
      "application/vnd.jupyter.widget-view+json": {
       "model_id": "",
       "version_major": 2,
       "version_minor": 0
      },
      "text/plain": [
       "  0%|          | 0/213 [00:00<?, ?it/s]"
      ]
     },
     "metadata": {},
     "output_type": "display_data"
    },
    {
     "data": {
      "application/vnd.jupyter.widget-view+json": {
       "model_id": "77342adc599743a6a150c221bafd5817",
       "version_major": 2,
       "version_minor": 0
      },
      "text/plain": [
       "  0%|          | 0/213 [00:00<?, ?it/s]"
      ]
     },
     "metadata": {},
     "output_type": "display_data"
    },
    {
     "data": {
      "application/vnd.jupyter.widget-view+json": {
       "model_id": "",
       "version_major": 2,
       "version_minor": 0
      },
      "text/plain": [
       "  0%|          | 0/37 [00:00<?, ?it/s]"
      ]
     },
     "metadata": {},
     "output_type": "display_data"
    },
    {
     "name": "stdout",
     "output_type": "stream",
     "text": [
      "------------------------- epoch: 1 -------------------------\n",
      "on train data\n",
      "loss: 0.4563904106616974\n",
      "precision: 0.8419811725616455\n",
      "------------------------- epoch: 1 -------------------------\n",
      "on valid data\n",
      "loss: 0.47149911522865295\n",
      "precision: 0.8185972571372986\n",
      "current learning rate: 2e-06\n"
     ]
    },
    {
     "data": {
      "application/vnd.jupyter.widget-view+json": {
       "model_id": "",
       "version_major": 2,
       "version_minor": 0
      },
      "text/plain": [
       "  0%|          | 0/213 [00:00<?, ?it/s]"
      ]
     },
     "metadata": {},
     "output_type": "display_data"
    },
    {
     "data": {
      "application/vnd.jupyter.widget-view+json": {
       "model_id": "fff1aa3fa54f46b49b3b8dcc293a0d47",
       "version_major": 2,
       "version_minor": 0
      },
      "text/plain": [
       "  0%|          | 0/213 [00:00<?, ?it/s]"
      ]
     },
     "metadata": {},
     "output_type": "display_data"
    },
    {
     "data": {
      "application/vnd.jupyter.widget-view+json": {
       "model_id": "",
       "version_major": 2,
       "version_minor": 0
      },
      "text/plain": [
       "  0%|          | 0/37 [00:00<?, ?it/s]"
      ]
     },
     "metadata": {},
     "output_type": "display_data"
    },
    {
     "name": "stdout",
     "output_type": "stream",
     "text": [
      "------------------------- epoch: 2 -------------------------\n",
      "on train data\n",
      "loss: 0.39491957426071167\n",
      "precision: 0.875\n",
      "------------------------- epoch: 2 -------------------------\n",
      "on valid data\n",
      "loss: 0.4304252862930298\n",
      "precision: 0.8368404507637024\n",
      "current learning rate: 2e-06\n"
     ]
    },
    {
     "data": {
      "application/vnd.jupyter.widget-view+json": {
       "model_id": "",
       "version_major": 2,
       "version_minor": 0
      },
      "text/plain": [
       "  0%|          | 0/213 [00:00<?, ?it/s]"
      ]
     },
     "metadata": {},
     "output_type": "display_data"
    },
    {
     "data": {
      "application/vnd.jupyter.widget-view+json": {
       "model_id": "cfcae27f72824bc79ab60dc236ef1d3c",
       "version_major": 2,
       "version_minor": 0
      },
      "text/plain": [
       "  0%|          | 0/213 [00:00<?, ?it/s]"
      ]
     },
     "metadata": {},
     "output_type": "display_data"
    },
    {
     "data": {
      "application/vnd.jupyter.widget-view+json": {
       "model_id": "",
       "version_major": 2,
       "version_minor": 0
      },
      "text/plain": [
       "  0%|          | 0/37 [00:00<?, ?it/s]"
      ]
     },
     "metadata": {},
     "output_type": "display_data"
    },
    {
     "name": "stdout",
     "output_type": "stream",
     "text": [
      "------------------------- epoch: 3 -------------------------\n",
      "on train data\n",
      "loss: 0.32770800590515137\n",
      "precision: 0.9103773832321167\n",
      "------------------------- epoch: 3 -------------------------\n",
      "on valid data\n",
      "loss: 0.400614470243454\n",
      "precision: 0.8537323474884033\n",
      "current learning rate: 2e-06\n"
     ]
    },
    {
     "data": {
      "application/vnd.jupyter.widget-view+json": {
       "model_id": "",
       "version_major": 2,
       "version_minor": 0
      },
      "text/plain": [
       "  0%|          | 0/213 [00:00<?, ?it/s]"
      ]
     },
     "metadata": {},
     "output_type": "display_data"
    },
    {
     "data": {
      "application/vnd.jupyter.widget-view+json": {
       "model_id": "2880386c0bb34b7293c55d4a46e3c1dd",
       "version_major": 2,
       "version_minor": 0
      },
      "text/plain": [
       "  0%|          | 0/213 [00:00<?, ?it/s]"
      ]
     },
     "metadata": {},
     "output_type": "display_data"
    },
    {
     "data": {
      "application/vnd.jupyter.widget-view+json": {
       "model_id": "",
       "version_major": 2,
       "version_minor": 0
      },
      "text/plain": [
       "  0%|          | 0/37 [00:00<?, ?it/s]"
      ]
     },
     "metadata": {},
     "output_type": "display_data"
    },
    {
     "name": "stdout",
     "output_type": "stream",
     "text": [
      "------------------------- epoch: 4 -------------------------\n",
      "on train data\n",
      "loss: 0.272190660238266\n",
      "precision: 0.9386792778968811\n",
      "------------------------- epoch: 4 -------------------------\n",
      "on valid data\n",
      "loss: 0.3869752585887909\n",
      "precision: 0.8575933575630188\n"
     ]
    }
   ],
   "source": [
    "class Classifier(JoModule):\n",
    "    def __init__(self, base):\n",
    "        super().__init__()\n",
    "        self.base = base\n",
    "        self.loss_fn = nn.CrossEntropyLoss()\n",
    "        \n",
    "    def forward(self, input_ids):\n",
    "        logits = self.base(input_ids).logits\n",
    "        return logits   # in shape (N, 2)\n",
    "    \n",
    "    def training_step(self, batch, device):\n",
    "        input_ids, target = batch\n",
    "        input_ids = input_ids.to(device)\n",
    "        target = target.reshape(-1).to(device)\n",
    "        logits = self.forward(input_ids)\n",
    "        loss = self.loss_fn(logits, target)\n",
    "        return loss\n",
    "        \n",
    "    \n",
    "    def validation_step(self, batch, device, metrics=[\"loss\", \"precision\"]):\n",
    "        input_ids, target = batch\n",
    "        input_ids = input_ids.to(device)\n",
    "        target = target.reshape(-1).to(device)\n",
    "        logits = self.forward(input_ids)\n",
    "        # compute loss\n",
    "        loss = self.loss_fn(logits, target)\n",
    "        # compute precision\n",
    "        precision = (logits.topk(1).indices.reshape(-1) == target).sum() / len(target)\n",
    "        return {\"loss\": loss, \"precision\": precision}\n",
    "    \n",
    "base = BertForSequenceClassification.from_pretrained(\"bert-base-uncased\")\n",
    "model = Classifier(base)\n",
    "trainer = Trainer(batch_size=8,\n",
    "                  max_epochs=5,\n",
    "                  optimizer_method=\"Adam\",\n",
    "                  lr=2e-6,\n",
    "                  save_model=\"exp_classifier_new\",\n",
    "                  logging=\"exp_classifier.log\",\n",
    "                  use_amp=False,\n",
    "                  warmup=False,\n",
    "                  accelerator=\"cuda:1\",\n",
    "                  valid_metrics=[\"loss\", \"precision\"],\n",
    "                  efficient_valid=True, \n",
    "                  )\n",
    "trainer.fit(model, train_dataloader, valid_dataloader)"
   ]
  },
  {
   "cell_type": "code",
   "execution_count": 4,
   "id": "a19292d3",
   "metadata": {},
   "outputs": [
    {
     "data": {
      "application/vnd.jupyter.widget-view+json": {
       "model_id": "",
       "version_major": 2,
       "version_minor": 0
      },
      "text/plain": [
       "  0%|          | 0/37 [00:00<?, ?it/s]"
      ]
     },
     "metadata": {},
     "output_type": "display_data"
    },
    {
     "data": {
      "text/plain": [
       "defaultdict(float,\n",
       "            {'loss': tensor(0.4331, device='cuda:1'),\n",
       "             'precision': tensor(0.8378, device='cuda:1')})"
      ]
     },
     "execution_count": 4,
     "metadata": {},
     "output_type": "execute_result"
    }
   ],
   "source": [
    "model = Classifier(base)\n",
    "model = load_model(model, \"./saved/exp_classifier_new_dict\")\n",
    "model.validIter(test_dataloader, \"cuda:1\", [\"loss\", \"precision\"], False)"
   ]
  },
  {
   "cell_type": "code",
   "execution_count": null,
   "id": "7fc677b7",
   "metadata": {},
   "outputs": [],
   "source": []
  }
 ],
 "metadata": {
  "kernelspec": {
   "display_name": "Python 3 (ipykernel)",
   "language": "python",
   "name": "python3"
  },
  "language_info": {
   "codemirror_mode": {
    "name": "ipython",
    "version": 3
   },
   "file_extension": ".py",
   "mimetype": "text/x-python",
   "name": "python",
   "nbconvert_exporter": "python",
   "pygments_lexer": "ipython3",
   "version": "3.9.5"
  }
 },
 "nbformat": 4,
 "nbformat_minor": 5
}
